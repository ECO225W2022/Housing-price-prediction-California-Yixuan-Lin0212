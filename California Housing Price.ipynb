{
 "cells": [
  {
   "cell_type": "markdown",
   "id": "b09e8b64",
   "metadata": {},
   "source": [
    "# Research Question: Predictions on California Housing Prices\n",
    "\n",
    "\n"
   ]
  },
  {
   "cell_type": "code",
   "execution_count": 157,
   "id": "34e9d116",
   "metadata": {},
   "outputs": [],
   "source": [
    "import pandas as pd\n",
    "import numpy as np\n",
    "import matplotlib.pyplot as plt\n",
    "%matplotlib inline\n",
    "import seaborn as sns\n"
   ]
  },
  {
   "cell_type": "markdown",
   "id": "6274f716",
   "metadata": {},
   "source": [
    "## Introduction\n",
    "\n",
    "### Source of Data: \n",
    "\n",
    "The data contains information from the 1990 California census.\n",
    "This dataset is a modified version of the California Housing dataset available from: Luís Torgo's page (University of Porto).\n",
    "And it is also available in the following URL link:\n",
    "https://www.kaggle.com/camnugent/california-housing-prices\n",
    "\n",
    "### Background Information: \n",
    "\n",
    "The dataset contains prices for houses found in given California districts and some summary stats about them based on the 1990 census data.\n",
    "The goal in this analysis is to find out whether there are potential relationships between housing prices and other factors(i.e.house age, median_income, population, etc.), and predict the housing prices in California based on our model and the 2021 cencus.\n",
    "\n",
    "\n",
    "### Ourtcome(Y) and Predictive Covariates(X):\n",
    "\n",
    "Linear Regression Model:\n",
    "Y: median_house_value\n",
    "X_1: house_age\n",
    "X_2: median_income\n",
    "X_3: population\n",
    "\n",
    "\n",
    "Camparing price per living space for each city in California:\n",
    "Y: median_house_value\n",
    "X: Ocean_proximity"
   ]
  },
  {
   "cell_type": "markdown",
   "id": "efbf40f0",
   "metadata": {},
   "source": [
    "## Cleaning Data\n",
    "\n",
    "First off, we need to clean our data so that we could efficiently analyse them.\n"
   ]
  },
  {
   "cell_type": "code",
   "execution_count": 158,
   "id": "2c56db8a",
   "metadata": {},
   "outputs": [
    {
     "data": {
      "text/html": [
       "<div>\n",
       "<style scoped>\n",
       "    .dataframe tbody tr th:only-of-type {\n",
       "        vertical-align: middle;\n",
       "    }\n",
       "\n",
       "    .dataframe tbody tr th {\n",
       "        vertical-align: top;\n",
       "    }\n",
       "\n",
       "    .dataframe thead th {\n",
       "        text-align: right;\n",
       "    }\n",
       "</style>\n",
       "<table border=\"1\" class=\"dataframe\">\n",
       "  <thead>\n",
       "    <tr style=\"text-align: right;\">\n",
       "      <th></th>\n",
       "      <th>longitude</th>\n",
       "      <th>latitude</th>\n",
       "      <th>housing_median_age</th>\n",
       "      <th>total_rooms</th>\n",
       "      <th>total_bedrooms</th>\n",
       "      <th>population</th>\n",
       "      <th>households</th>\n",
       "      <th>median_income</th>\n",
       "      <th>median_house_value</th>\n",
       "      <th>ocean_proximity</th>\n",
       "    </tr>\n",
       "  </thead>\n",
       "  <tbody>\n",
       "    <tr>\n",
       "      <th>0</th>\n",
       "      <td>-122.23</td>\n",
       "      <td>37.88</td>\n",
       "      <td>41.0</td>\n",
       "      <td>880.0</td>\n",
       "      <td>129.0</td>\n",
       "      <td>322.0</td>\n",
       "      <td>126.0</td>\n",
       "      <td>8.3252</td>\n",
       "      <td>452600.0</td>\n",
       "      <td>NEAR BAY</td>\n",
       "    </tr>\n",
       "    <tr>\n",
       "      <th>1</th>\n",
       "      <td>-122.22</td>\n",
       "      <td>37.86</td>\n",
       "      <td>21.0</td>\n",
       "      <td>7099.0</td>\n",
       "      <td>1106.0</td>\n",
       "      <td>2401.0</td>\n",
       "      <td>1138.0</td>\n",
       "      <td>8.3014</td>\n",
       "      <td>358500.0</td>\n",
       "      <td>NEAR BAY</td>\n",
       "    </tr>\n",
       "    <tr>\n",
       "      <th>2</th>\n",
       "      <td>-122.24</td>\n",
       "      <td>37.85</td>\n",
       "      <td>52.0</td>\n",
       "      <td>1467.0</td>\n",
       "      <td>190.0</td>\n",
       "      <td>496.0</td>\n",
       "      <td>177.0</td>\n",
       "      <td>7.2574</td>\n",
       "      <td>352100.0</td>\n",
       "      <td>NEAR BAY</td>\n",
       "    </tr>\n",
       "    <tr>\n",
       "      <th>3</th>\n",
       "      <td>-122.25</td>\n",
       "      <td>37.85</td>\n",
       "      <td>52.0</td>\n",
       "      <td>1274.0</td>\n",
       "      <td>235.0</td>\n",
       "      <td>558.0</td>\n",
       "      <td>219.0</td>\n",
       "      <td>5.6431</td>\n",
       "      <td>341300.0</td>\n",
       "      <td>NEAR BAY</td>\n",
       "    </tr>\n",
       "    <tr>\n",
       "      <th>4</th>\n",
       "      <td>-122.25</td>\n",
       "      <td>37.85</td>\n",
       "      <td>52.0</td>\n",
       "      <td>1627.0</td>\n",
       "      <td>280.0</td>\n",
       "      <td>565.0</td>\n",
       "      <td>259.0</td>\n",
       "      <td>3.8462</td>\n",
       "      <td>342200.0</td>\n",
       "      <td>NEAR BAY</td>\n",
       "    </tr>\n",
       "  </tbody>\n",
       "</table>\n",
       "</div>"
      ],
      "text/plain": [
       "   longitude  latitude  housing_median_age  total_rooms  total_bedrooms  \\\n",
       "0    -122.23     37.88                41.0        880.0           129.0   \n",
       "1    -122.22     37.86                21.0       7099.0          1106.0   \n",
       "2    -122.24     37.85                52.0       1467.0           190.0   \n",
       "3    -122.25     37.85                52.0       1274.0           235.0   \n",
       "4    -122.25     37.85                52.0       1627.0           280.0   \n",
       "\n",
       "   population  households  median_income  median_house_value ocean_proximity  \n",
       "0       322.0       126.0         8.3252            452600.0        NEAR BAY  \n",
       "1      2401.0      1138.0         8.3014            358500.0        NEAR BAY  \n",
       "2       496.0       177.0         7.2574            352100.0        NEAR BAY  \n",
       "3       558.0       219.0         5.6431            341300.0        NEAR BAY  \n",
       "4       565.0       259.0         3.8462            342200.0        NEAR BAY  "
      ]
     },
     "execution_count": 158,
     "metadata": {},
     "output_type": "execute_result"
    }
   ],
   "source": [
    "df_house = pd.read_csv('C:/Users/amber/Desktop/Eco225/Code/housing.csv')\n",
    "df_house.head()"
   ]
  },
  {
   "cell_type": "code",
   "execution_count": 159,
   "id": "3c4db208",
   "metadata": {},
   "outputs": [
    {
     "data": {
      "text/plain": [
       "(20640, 10)"
      ]
     },
     "execution_count": 159,
     "metadata": {},
     "output_type": "execute_result"
    }
   ],
   "source": [
    "df_house.shape"
   ]
  },
  {
   "cell_type": "markdown",
   "id": "8bb0c8f0",
   "metadata": {},
   "source": [
    "We have 20640 observations with 10 columns in the dataset.\n",
    "\n",
    "Then, we need to check if there exists missing values in the dataset."
   ]
  },
  {
   "cell_type": "code",
   "execution_count": 160,
   "id": "b838a4c5",
   "metadata": {},
   "outputs": [
    {
     "data": {
      "text/plain": [
       "longitude               0\n",
       "latitude                0\n",
       "housing_median_age      0\n",
       "total_rooms             0\n",
       "total_bedrooms        207\n",
       "population              0\n",
       "households              0\n",
       "median_income           0\n",
       "median_house_value      0\n",
       "ocean_proximity         0\n",
       "dtype: int64"
      ]
     },
     "execution_count": 160,
     "metadata": {},
     "output_type": "execute_result"
    }
   ],
   "source": [
    "df_house.isnull().sum()"
   ]
  },
  {
   "cell_type": "markdown",
   "id": "7d449bc6",
   "metadata": {},
   "source": [
    "The result shows that there are 207 missing values existing in the \"total_bedrooms\" column.\n",
    "Now, we will clean the data by dropping the uninterested column from the dataset."
   ]
  },
  {
   "cell_type": "code",
   "execution_count": 161,
   "id": "46b71eed",
   "metadata": {},
   "outputs": [
    {
     "data": {
      "text/html": [
       "<div>\n",
       "<style scoped>\n",
       "    .dataframe tbody tr th:only-of-type {\n",
       "        vertical-align: middle;\n",
       "    }\n",
       "\n",
       "    .dataframe tbody tr th {\n",
       "        vertical-align: top;\n",
       "    }\n",
       "\n",
       "    .dataframe thead th {\n",
       "        text-align: right;\n",
       "    }\n",
       "</style>\n",
       "<table border=\"1\" class=\"dataframe\">\n",
       "  <thead>\n",
       "    <tr style=\"text-align: right;\">\n",
       "      <th></th>\n",
       "      <th>median_income</th>\n",
       "      <th>median_house_value</th>\n",
       "    </tr>\n",
       "  </thead>\n",
       "  <tbody>\n",
       "    <tr>\n",
       "      <th>0</th>\n",
       "      <td>8.3252</td>\n",
       "      <td>452600.0</td>\n",
       "    </tr>\n",
       "    <tr>\n",
       "      <th>1</th>\n",
       "      <td>8.3014</td>\n",
       "      <td>358500.0</td>\n",
       "    </tr>\n",
       "    <tr>\n",
       "      <th>2</th>\n",
       "      <td>7.2574</td>\n",
       "      <td>352100.0</td>\n",
       "    </tr>\n",
       "    <tr>\n",
       "      <th>3</th>\n",
       "      <td>5.6431</td>\n",
       "      <td>341300.0</td>\n",
       "    </tr>\n",
       "    <tr>\n",
       "      <th>4</th>\n",
       "      <td>3.8462</td>\n",
       "      <td>342200.0</td>\n",
       "    </tr>\n",
       "    <tr>\n",
       "      <th>...</th>\n",
       "      <td>...</td>\n",
       "      <td>...</td>\n",
       "    </tr>\n",
       "    <tr>\n",
       "      <th>20635</th>\n",
       "      <td>1.5603</td>\n",
       "      <td>78100.0</td>\n",
       "    </tr>\n",
       "    <tr>\n",
       "      <th>20636</th>\n",
       "      <td>2.5568</td>\n",
       "      <td>77100.0</td>\n",
       "    </tr>\n",
       "    <tr>\n",
       "      <th>20637</th>\n",
       "      <td>1.7000</td>\n",
       "      <td>92300.0</td>\n",
       "    </tr>\n",
       "    <tr>\n",
       "      <th>20638</th>\n",
       "      <td>1.8672</td>\n",
       "      <td>84700.0</td>\n",
       "    </tr>\n",
       "    <tr>\n",
       "      <th>20639</th>\n",
       "      <td>2.3886</td>\n",
       "      <td>89400.0</td>\n",
       "    </tr>\n",
       "  </tbody>\n",
       "</table>\n",
       "<p>20640 rows × 2 columns</p>\n",
       "</div>"
      ],
      "text/plain": [
       "       median_income  median_house_value\n",
       "0             8.3252            452600.0\n",
       "1             8.3014            358500.0\n",
       "2             7.2574            352100.0\n",
       "3             5.6431            341300.0\n",
       "4             3.8462            342200.0\n",
       "...              ...                 ...\n",
       "20635         1.5603             78100.0\n",
       "20636         2.5568             77100.0\n",
       "20637         1.7000             92300.0\n",
       "20638         1.8672             84700.0\n",
       "20639         2.3886             89400.0\n",
       "\n",
       "[20640 rows x 2 columns]"
      ]
     },
     "execution_count": 161,
     "metadata": {},
     "output_type": "execute_result"
    }
   ],
   "source": [
    "df_house_clean = df_house.drop([\"total_bedrooms\",\"total_rooms\",\"longitude\", \"latitude\"], axis=1)\n",
    "df_house_2 = df_house.drop([\"total_bedrooms\",\"total_rooms\",\"longitude\", \"latitude\", \"population\", \"households\",\"ocean_proximity\",\"housing_median_age\"], axis=1)\n",
    "df_house_2"
   ]
  },
  {
   "cell_type": "markdown",
   "id": "926aa075",
   "metadata": {},
   "source": [
    "## Summary Statistics\n",
    "\n",
    "Now we want to see the statistical details of the dataset.\n"
   ]
  },
  {
   "cell_type": "code",
   "execution_count": 162,
   "id": "d486235c",
   "metadata": {},
   "outputs": [
    {
     "data": {
      "text/html": [
       "<div>\n",
       "<style scoped>\n",
       "    .dataframe tbody tr th:only-of-type {\n",
       "        vertical-align: middle;\n",
       "    }\n",
       "\n",
       "    .dataframe tbody tr th {\n",
       "        vertical-align: top;\n",
       "    }\n",
       "\n",
       "    .dataframe thead th {\n",
       "        text-align: right;\n",
       "    }\n",
       "</style>\n",
       "<table border=\"1\" class=\"dataframe\">\n",
       "  <thead>\n",
       "    <tr style=\"text-align: right;\">\n",
       "      <th></th>\n",
       "      <th>housing_median_age</th>\n",
       "      <th>population</th>\n",
       "      <th>households</th>\n",
       "      <th>median_income</th>\n",
       "      <th>median_house_value</th>\n",
       "    </tr>\n",
       "  </thead>\n",
       "  <tbody>\n",
       "    <tr>\n",
       "      <th>count</th>\n",
       "      <td>20640.000000</td>\n",
       "      <td>20640.000000</td>\n",
       "      <td>20640.000000</td>\n",
       "      <td>20640.000000</td>\n",
       "      <td>20640.000000</td>\n",
       "    </tr>\n",
       "    <tr>\n",
       "      <th>mean</th>\n",
       "      <td>28.639486</td>\n",
       "      <td>1425.476744</td>\n",
       "      <td>499.539680</td>\n",
       "      <td>3.870671</td>\n",
       "      <td>206855.816909</td>\n",
       "    </tr>\n",
       "    <tr>\n",
       "      <th>std</th>\n",
       "      <td>12.585558</td>\n",
       "      <td>1132.462122</td>\n",
       "      <td>382.329753</td>\n",
       "      <td>1.899822</td>\n",
       "      <td>115395.615874</td>\n",
       "    </tr>\n",
       "    <tr>\n",
       "      <th>min</th>\n",
       "      <td>1.000000</td>\n",
       "      <td>3.000000</td>\n",
       "      <td>1.000000</td>\n",
       "      <td>0.499900</td>\n",
       "      <td>14999.000000</td>\n",
       "    </tr>\n",
       "    <tr>\n",
       "      <th>25%</th>\n",
       "      <td>18.000000</td>\n",
       "      <td>787.000000</td>\n",
       "      <td>280.000000</td>\n",
       "      <td>2.563400</td>\n",
       "      <td>119600.000000</td>\n",
       "    </tr>\n",
       "    <tr>\n",
       "      <th>50%</th>\n",
       "      <td>29.000000</td>\n",
       "      <td>1166.000000</td>\n",
       "      <td>409.000000</td>\n",
       "      <td>3.534800</td>\n",
       "      <td>179700.000000</td>\n",
       "    </tr>\n",
       "    <tr>\n",
       "      <th>75%</th>\n",
       "      <td>37.000000</td>\n",
       "      <td>1725.000000</td>\n",
       "      <td>605.000000</td>\n",
       "      <td>4.743250</td>\n",
       "      <td>264725.000000</td>\n",
       "    </tr>\n",
       "    <tr>\n",
       "      <th>max</th>\n",
       "      <td>52.000000</td>\n",
       "      <td>35682.000000</td>\n",
       "      <td>6082.000000</td>\n",
       "      <td>15.000100</td>\n",
       "      <td>500001.000000</td>\n",
       "    </tr>\n",
       "  </tbody>\n",
       "</table>\n",
       "</div>"
      ],
      "text/plain": [
       "       housing_median_age    population    households  median_income  \\\n",
       "count        20640.000000  20640.000000  20640.000000   20640.000000   \n",
       "mean            28.639486   1425.476744    499.539680       3.870671   \n",
       "std             12.585558   1132.462122    382.329753       1.899822   \n",
       "min              1.000000      3.000000      1.000000       0.499900   \n",
       "25%             18.000000    787.000000    280.000000       2.563400   \n",
       "50%             29.000000   1166.000000    409.000000       3.534800   \n",
       "75%             37.000000   1725.000000    605.000000       4.743250   \n",
       "max             52.000000  35682.000000   6082.000000      15.000100   \n",
       "\n",
       "       median_house_value  \n",
       "count        20640.000000  \n",
       "mean        206855.816909  \n",
       "std         115395.615874  \n",
       "min          14999.000000  \n",
       "25%         119600.000000  \n",
       "50%         179700.000000  \n",
       "75%         264725.000000  \n",
       "max         500001.000000  "
      ]
     },
     "execution_count": 162,
     "metadata": {},
     "output_type": "execute_result"
    }
   ],
   "source": [
    "df_house_clean.describe()"
   ]
  },
  {
   "cell_type": "markdown",
   "id": "01fc3f02",
   "metadata": {},
   "source": [
    "## Method 1: Simple Linear Regression\n",
    "\n",
    "###  Goal: use simple linear regression to predict the house value(measured in tens of thousands of US Dollars) in California based upon median income(measured in US Dollars) per district. \n",
    "\n",
    "### Plot of house value and house income, house age, population, and households:\n",
    "\n",
    "Plot to see if there is a visible linear relations between house value and other covariances."
   ]
  },
  {
   "cell_type": "code",
   "execution_count": 163,
   "id": "c519ade8",
   "metadata": {},
   "outputs": [
    {
     "data": {
      "image/png": "[encoded data removed]",
      "text/plain": [
       "<Figure size 432x288 with 1 Axes>"
      ]
     },
     "metadata": {
      "needs_background": "light"
     },
     "output_type": "display_data"
    }
   ],
   "source": [
    "df_house_clean.plot(x='median_income', y='median_house_value', style='o')\n",
    "plt.title('Income VS House Value')\n",
    "plt.xlabel('Median Income per District')\n",
    "plt.ylabel('Median House Value')\n",
    "plt.show()"
   ]
  },
  {
   "cell_type": "code",
   "execution_count": 164,
   "id": "b9a44ad7",
   "metadata": {},
   "outputs": [
    {
     "data": {
      "image/png": "[encoded data removed]",
      "text/plain": [
       "<Figure size 432x288 with 1 Axes>"
      ]
     },
     "metadata": {
      "needs_background": "light"
     },
     "output_type": "display_data"
    }
   ],
   "source": [
    "df_house_clean.plot(x='housing_median_age', y='median_house_value', style='o')\n",
    "plt.title('House age VS House Value')\n",
    "plt.xlabel('Median house age per District')\n",
    "plt.ylabel('Median House Value')\n",
    "plt.show()"
   ]
  },
  {
   "cell_type": "code",
   "execution_count": 165,
   "id": "0857f501",
   "metadata": {},
   "outputs": [
    {
     "data": {
      "image/png": "[encoded data removed]",
      "text/plain": [
       "<Figure size 432x288 with 1 Axes>"
      ]
     },
     "metadata": {
      "needs_background": "light"
     },
     "output_type": "display_data"
    }
   ],
   "source": [
    "df_house_clean.plot(x='population', y='median_house_value', style='o')\n",
    "plt.title('population VS House Value')\n",
    "plt.xlabel('population per District')\n",
    "plt.ylabel('Median House Value')\n",
    "plt.show()"
   ]
  },
  {
   "cell_type": "code",
   "execution_count": 166,
   "id": "3081cd22",
   "metadata": {},
   "outputs": [
    {
     "data": {
      "image/png": "[encoded data removed]",
      "text/plain": [
       "<Figure size 432x288 with 1 Axes>"
      ]
     },
     "metadata": {
      "needs_background": "light"
     },
     "output_type": "display_data"
    }
   ],
   "source": [
    "df_house_clean.plot(x='households', y='median_house_value', style='o')\n",
    "plt.title('households VS House Value')\n",
    "plt.xlabel('households per District')\n",
    "plt.ylabel('Median House Value')\n",
    "plt.show()"
   ]
  },
  {
   "cell_type": "markdown",
   "id": "920ce0c7",
   "metadata": {},
   "source": [
    "#### Through observing the above plots, there is a positive linear relation between house value and income."
   ]
  },
  {
   "cell_type": "markdown",
   "id": "7aa85172",
   "metadata": {},
   "source": [
    "\n",
    "### step1: preparing the data\n",
    "\n",
    "First, we are going to divide the data into attributes and labels, and then use python to divide our data into training and test datasets.\n"
   ]
  },
  {
   "cell_type": "code",
   "execution_count": 167,
   "id": "b803469a",
   "metadata": {},
   "outputs": [],
   "source": [
    "X = df_house_2.iloc[:, :-1].values\n",
    "y = df_house_2.iloc[:, 1].values"
   ]
  },
  {
   "cell_type": "code",
   "execution_count": 168,
   "id": "c2e1e76e",
   "metadata": {},
   "outputs": [],
   "source": [
    "from sklearn.model_selection import train_test_split\n",
    "X_train, X_test, y_train, y_test = train_test_split(X, y, test_size=0.2, random_state=0)"
   ]
  },
  {
   "cell_type": "markdown",
   "id": "d46d70e8",
   "metadata": {},
   "source": [
    "### step2: calculate coefficients\n",
    "\n",
    "Then, use the linear regression model to see the optimal coefficients for all the attributes."
   ]
  },
  {
   "cell_type": "code",
   "execution_count": 169,
   "id": "fe8cbdb9",
   "metadata": {},
   "outputs": [
    {
     "name": "stdout",
     "output_type": "stream",
     "text": [
      "[42032.17769894]\n"
     ]
    }
   ],
   "source": [
    "from sklearn.linear_model import LinearRegression\n",
    "regressor = LinearRegression()\n",
    "regressor.fit(X_train, y_train)\n",
    "print(regressor.coef_)"
   ]
  },
  {
   "cell_type": "markdown",
   "id": "2d30289d",
   "metadata": {},
   "source": [
    "### step3: Interpretation:\n",
    "The above coefficient result means that for every one unit of change in income, the change in the house value is about 42032.17 dollars\n",
    "Or in simpler words, if the median income in a district increases by 1,0000 dollars, they can expect the house value to achieve an increase of 42032.17 dollars compared to the previous house value."
   ]
  },
  {
   "cell_type": "markdown",
   "id": "cae0160c",
   "metadata": {},
   "source": [
    "###  step4: Making Predictions:\n",
    "\n",
    "We make predictions on the test data, and then compare the actual data to the predicted data."
   ]
  },
  {
   "cell_type": "code",
   "execution_count": 170,
   "id": "49b0e3f8",
   "metadata": {},
   "outputs": [
    {
     "data": {
      "text/html": [
       "<div>\n",
       "<style scoped>\n",
       "    .dataframe tbody tr th:only-of-type {\n",
       "        vertical-align: middle;\n",
       "    }\n",
       "\n",
       "    .dataframe tbody tr th {\n",
       "        vertical-align: top;\n",
       "    }\n",
       "\n",
       "    .dataframe thead th {\n",
       "        text-align: right;\n",
       "    }\n",
       "</style>\n",
       "<table border=\"1\" class=\"dataframe\">\n",
       "  <thead>\n",
       "    <tr style=\"text-align: right;\">\n",
       "      <th></th>\n",
       "      <th>Actual</th>\n",
       "      <th>Predicted</th>\n",
       "    </tr>\n",
       "  </thead>\n",
       "  <tbody>\n",
       "    <tr>\n",
       "      <th>0</th>\n",
       "      <td>136900.0</td>\n",
       "      <td>218829.830598</td>\n",
       "    </tr>\n",
       "    <tr>\n",
       "      <th>1</th>\n",
       "      <td>241300.0</td>\n",
       "      <td>287249.809456</td>\n",
       "    </tr>\n",
       "    <tr>\n",
       "      <th>2</th>\n",
       "      <td>200700.0</td>\n",
       "      <td>227105.966387</td>\n",
       "    </tr>\n",
       "    <tr>\n",
       "      <th>3</th>\n",
       "      <td>72500.0</td>\n",
       "      <td>147345.705986</td>\n",
       "    </tr>\n",
       "    <tr>\n",
       "      <th>4</th>\n",
       "      <td>460000.0</td>\n",
       "      <td>254687.481393</td>\n",
       "    </tr>\n",
       "    <tr>\n",
       "      <th>...</th>\n",
       "      <td>...</td>\n",
       "      <td>...</td>\n",
       "    </tr>\n",
       "    <tr>\n",
       "      <th>4123</th>\n",
       "      <td>169500.0</td>\n",
       "      <td>148631.890623</td>\n",
       "    </tr>\n",
       "    <tr>\n",
       "      <th>4124</th>\n",
       "      <td>204600.0</td>\n",
       "      <td>228585.499042</td>\n",
       "    </tr>\n",
       "    <tr>\n",
       "      <th>4125</th>\n",
       "      <td>128600.0</td>\n",
       "      <td>178937.090744</td>\n",
       "    </tr>\n",
       "    <tr>\n",
       "      <th>4126</th>\n",
       "      <td>259500.0</td>\n",
       "      <td>302549.522139</td>\n",
       "    </tr>\n",
       "    <tr>\n",
       "      <th>4127</th>\n",
       "      <td>167600.0</td>\n",
       "      <td>184397.070627</td>\n",
       "    </tr>\n",
       "  </tbody>\n",
       "</table>\n",
       "<p>4128 rows × 2 columns</p>\n",
       "</div>"
      ],
      "text/plain": [
       "        Actual      Predicted\n",
       "0     136900.0  218829.830598\n",
       "1     241300.0  287249.809456\n",
       "2     200700.0  227105.966387\n",
       "3      72500.0  147345.705986\n",
       "4     460000.0  254687.481393\n",
       "...        ...            ...\n",
       "4123  169500.0  148631.890623\n",
       "4124  204600.0  228585.499042\n",
       "4125  128600.0  178937.090744\n",
       "4126  259500.0  302549.522139\n",
       "4127  167600.0  184397.070627\n",
       "\n",
       "[4128 rows x 2 columns]"
      ]
     },
     "execution_count": 170,
     "metadata": {},
     "output_type": "execute_result"
    }
   ],
   "source": [
    "y_pred = regressor.predict(X_test)\n",
    "df = pd.DataFrame({'Actual': y_test, 'Predicted': y_pred})\n",
    "df"
   ]
  },
  {
   "cell_type": "markdown",
   "id": "3954833f",
   "metadata": {},
   "source": [
    "### step5: Evaluating the Model:\n"
   ]
  },
  {
   "cell_type": "code",
   "execution_count": 171,
   "id": "892e37dc",
   "metadata": {},
   "outputs": [
    {
     "name": "stdout",
     "output_type": "stream",
     "text": [
      "Root Mean Squared Error: 84941.05152406936\n"
     ]
    }
   ],
   "source": [
    "from sklearn import metrics\n",
    "print('Root Mean Squared Error:', np.sqrt(metrics.mean_squared_error(y_test, y_pred)))"
   ]
  },
  {
   "cell_type": "markdown",
   "id": "65d51669",
   "metadata": {},
   "source": [
    "You can see that the value of root mean squared error is 84941.05, which is much greater than 10% of the mean value(206855.82) of the house value in California. This means that our algorithm was not very accurate but can still make reasonably good predictions."
   ]
  },
  {
   "cell_type": "markdown",
   "id": "859ddd90",
   "metadata": {},
   "source": [
    "### Potential Questions with prediction:\n",
    "\n",
    "There are many factors that may have contributed to this inaccuracy:\n",
    "#### 1.Need more data: Only one year worth of data isn't that much, whereas having multiple years worth could have helped us improve the accuracy quite a bit.\n",
    "#### 2.Bad assumptions: We made the assumption that this data has a linear relationship, but that might not be the case. "
   ]
  },
  {
   "cell_type": "markdown",
   "id": "b1038617",
   "metadata": {},
   "source": [
    "## Method2: Different plots showing variations of house values based on location\n"
   ]
  },
  {
   "cell_type": "markdown",
   "id": "46664fdc",
   "metadata": {},
   "source": [
    "## Histogram of Houses counts based on location"
   ]
  },
  {
   "cell_type": "code",
   "execution_count": 172,
   "id": "9a6c40cd",
   "metadata": {},
   "outputs": [
    {
     "data": {
      "image/png": "[encoded data removed]",
      "text/plain": [
       "<Figure size 432x288 with 1 Axes>"
      ]
     },
     "metadata": {
      "needs_background": "light"
     },
     "output_type": "display_data"
    }
   ],
   "source": [
    "df_house_clean.ocean_proximity.value_counts().plot(kind=\"bar\")\n",
    "plt.title('Number of houses')\n",
    "plt.xlabel(\"Ocean proximity\")\n",
    "plt.ylabel('Count')\n",
    "plt.show()"
   ]
  },
  {
   "cell_type": "markdown",
   "id": "fe660f17",
   "metadata": {},
   "source": [
    "#### We could see that the majority of houses located within one hour to the ocean, and there are very little houses built on the island."
   ]
  },
  {
   "cell_type": "markdown",
   "id": "0c90271e",
   "metadata": {},
   "source": [
    "## Box plot of House Values based on Location"
   ]
  },
  {
   "cell_type": "code",
   "execution_count": 182,
   "id": "4f740560",
   "metadata": {},
   "outputs": [
    {
     "data": {
      "image/png": "[encoded data removed]",
      "text/plain": [
       "<Figure size 1152x576 with 1 Axes>"
      ]
     },
     "metadata": {
      "needs_background": "light"
     },
     "output_type": "display_data"
    }
   ],
   "source": [
    "df_house_clean.boxplot(column=\"median_house_value\", by='ocean_proximity', sym = 'k.', figsize=(16,8))\n",
    "plt.title('Boxplot for Camparing price per district for each location')\n",
    "plt.show()"
   ]
  },
  {
   "cell_type": "markdown",
   "id": "81cbb5d4",
   "metadata": {},
   "source": [
    "## Summary\n",
    "\n"
   ]
  },
  {
   "cell_type": "markdown",
   "id": "327995ab",
   "metadata": {},
   "source": [
    "## Future Steps\n",
    "\n"
   ]
  }
 ],
 "metadata": {
  "kernelspec": {
   "display_name": "Python 3 (ipykernel)",
   "language": "python",
   "name": "python3"
  },
  "language_info": {
   "codemirror_mode": {
    "name": "ipython",
    "version": 3
   },
   "file_extension": ".py",
   "mimetype": "text/x-python",
   "name": "python",
   "nbconvert_exporter": "python",
   "pygments_lexer": "ipython3",
   "version": "3.9.7"
  }
 },
 "nbformat": 4,
 "nbformat_minor": 5
}
